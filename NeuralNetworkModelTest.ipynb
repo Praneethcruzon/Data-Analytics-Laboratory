{
  "nbformat": 4,
  "nbformat_minor": 0,
  "metadata": {
    "colab": {
      "name": "NeuralNetworkModelTest.ipynb",
      "version": "0.3.2",
      "provenance": [],
      "include_colab_link": true
    },
    "kernelspec": {
      "name": "python3",
      "display_name": "Python 3"
    }
  },
  "cells": [
    {
      "cell_type": "markdown",
      "metadata": {
        "id": "view-in-github",
        "colab_type": "text"
      },
      "source": [
        "<a href=\"https://colab.research.google.com/github/Praneethcruzon/Data-Analytics-Laboratory/blob/master/NeuralNetworkModelTest.ipynb\" target=\"_parent\"><img src=\"https://colab.research.google.com/assets/colab-badge.svg\" alt=\"Open In Colab\"/></a>"
      ]
    },
    {
      "cell_type": "code",
      "metadata": {
        "id": "VG8oHeksZDHC",
        "colab_type": "code",
        "colab": {
          "base_uri": "https://localhost:8080/",
          "height": 34
        },
        "outputId": "17e74b25-4be6-40c1-b673-eacd5fbc8a26"
      },
      "source": [
        "from keras.models import Sequential\n",
        "from keras.layers import Dense\n",
        "import numpy as np\n",
        "import pandas as pd\n",
        "from sklearn.datasets import load_boston\n",
        "from sklearn.preprocessing import StandardScaler,OneHotEncoder,MinMaxScaler\n",
        "from sklearn.model_selection import train_test_split"
      ],
      "execution_count": 1,
      "outputs": [
        {
          "output_type": "stream",
          "text": [
            "Using TensorFlow backend.\n"
          ],
          "name": "stderr"
        }
      ]
    },
    {
      "cell_type": "code",
      "metadata": {
        "id": "KPI9TY9saEZ5",
        "colab_type": "code",
        "colab": {}
      },
      "source": [
        "inputdata = np.array([[1,0,1]])\n",
        "targetdata = np.array([[1,0]])"
      ],
      "execution_count": 0,
      "outputs": []
    },
    {
      "cell_type": "code",
      "metadata": {
        "id": "MXaxkFoaaxjp",
        "colab_type": "code",
        "colab": {}
      },
      "source": [
        "model = Sequential()\n",
        "h1 = model.add(Dense(2,activation=\"sigmoid\",input_dim=3))\n",
        "h2=model.add(Dense(3,activation=\"sigmoid\"))\n",
        "o = model.add(Dense(2,activation=\"linear\"))"
      ],
      "execution_count": 0,
      "outputs": []
    },
    {
      "cell_type": "code",
      "metadata": {
        "id": "3kWQgc2pbJWu",
        "colab_type": "code",
        "colab": {}
      },
      "source": [
        "w1 = np.zeros((3, 2))\n",
        "b1 = np.zeros((2,))\n",
        "w2 = np.zeros((2, 3))\n",
        "b2 = np.zeros((3,))\n",
        "w3 = np.zeros((3, 2))\n",
        "b3 = np.zeros((2,))"
      ],
      "execution_count": 0,
      "outputs": []
    },
    {
      "cell_type": "code",
      "metadata": {
        "id": "Jt_ZSr75fPOC",
        "colab_type": "code",
        "colab": {}
      },
      "source": [
        "w1[:,0] = [0.2, 0.4, 0.5]\n",
        "w1[:,1] = [-0.3, 0.1, 0.2]\n",
        "b1[0] = -0.4\n",
        "b1[1] = 0.2\n",
        "w2[:,0] = [-0.3, -0.2]\n",
        "w2[:,1] = [0.2, -0.1]\n",
        "w2[:,2] = [0.6, -0.2]\n",
        "b2[0] = 0.1\n",
        "b2[1] = 0.1\n",
        "b2[2] = 0.2\n",
        "w3[:,0] = [0.3, -0.5, -0.7]\n",
        "w3[:,1] = [0.2, 0.5, 0.2]\n",
        "b3[0] = 0.1\n",
        "b3[1] = 0.2"
      ],
      "execution_count": 0,
      "outputs": []
    },
    {
      "cell_type": "code",
      "metadata": {
        "id": "moQdvYMlj7M-",
        "colab_type": "code",
        "colab": {}
      },
      "source": [
        "model.set_weights([w1,b1,w2,b2,w3,b3])"
      ],
      "execution_count": 0,
      "outputs": []
    },
    {
      "cell_type": "code",
      "metadata": {
        "id": "PIn7jtARhxeY",
        "colab_type": "code",
        "colab": {
          "base_uri": "https://localhost:8080/",
          "height": 289
        },
        "outputId": "c15d3ef8-a4f2-41cd-a124-6b8f1a8f7e67"
      },
      "source": [
        "model.summary()\n",
        "model.compile(loss=\"mean_squared_error\",optimizer=\"Adam\",metrics=['accuracy'])\n",
        "model.fit(inputdata,targetdata,epochs=1)\n"
      ],
      "execution_count": 44,
      "outputs": [
        {
          "output_type": "stream",
          "text": [
            "_________________________________________________________________\n",
            "Layer (type)                 Output Shape              Param #   \n",
            "=================================================================\n",
            "dense_19 (Dense)             (None, 2)                 8         \n",
            "_________________________________________________________________\n",
            "dense_20 (Dense)             (None, 3)                 9         \n",
            "_________________________________________________________________\n",
            "dense_21 (Dense)             (None, 2)                 8         \n",
            "=================================================================\n",
            "Total params: 25\n",
            "Trainable params: 25\n",
            "Non-trainable params: 0\n",
            "_________________________________________________________________\n",
            "Epoch 1/1\n",
            "1/1 [==============================] - 0s 369ms/step - loss: 0.7144 - acc: 1.0000\n"
          ],
          "name": "stdout"
        },
        {
          "output_type": "execute_result",
          "data": {
            "text/plain": [
              "<keras.callbacks.History at 0x7f9f89e8e358>"
            ]
          },
          "metadata": {
            "tags": []
          },
          "execution_count": 44
        }
      ]
    }
  ]
}